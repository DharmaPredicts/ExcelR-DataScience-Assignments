{
 "cells": [
  {
   "cell_type": "markdown",
   "metadata": {},
   "source": [
    "# Problem 1: Hypothesis Testing"
   ]
  },
  {
   "cell_type": "markdown",
   "metadata": {},
   "source": []
  },
  {
   "cell_type": "raw",
   "metadata": {},
   "source": [
    "A F&B manager wants to determine whether there is any significant difference in the diameter of the cutlet between two units.\n",
    "A randomly selected sample of cutlets was collected from both units and measured? \n",
    "Analyze the data and draw inferences at 5% significance level. \n",
    "Please state the assumptions and tests that you carried out to check validity of the assumptions.\n",
    "\n",
    "     Minitab File : Cutlets.csv\n",
    "        \n",
    "H0= No difference in cutlets\n",
    "H1= Difference between cutlets\n"
   ]
  },
  {
   "cell_type": "markdown",
   "metadata": {},
   "source": [
    "1 - Business Problem\n",
    "\n",
    "Is there significant difference in the diameter of the cutlet ?"
   ]
  },
  {
   "cell_type": "code",
   "execution_count": 1,
   "metadata": {},
   "outputs": [],
   "source": [
    "import numpy as np\n",
    "import pandas as pd\n",
    "import matplotlib.pyplot as plt\n"
   ]
  },
  {
   "cell_type": "code",
   "execution_count": 2,
   "metadata": {},
   "outputs": [],
   "source": [
    "df1=pd.read_csv('Cutlets.csv')"
   ]
  },
  {
   "cell_type": "markdown",
   "metadata": {},
   "source": [
    "# 2 - Data description\n",
    "α == 0.05 (95% Confidence)\n",
    "\n",
    "Y == Continious;\n",
    "X == Discrete\n",
    "\n",
    "Is Y1 and Y2 equal ?\n",
    "\n",
    "H0 = Y1 and Y2 are equal\n",
    "\n",
    "H1 = Y1 and Y2 are not equal"
   ]
  },
  {
   "cell_type": "markdown",
   "metadata": {},
   "source": [
    "# 3 - Normality Test"
   ]
  },
  {
   "cell_type": "code",
   "execution_count": 3,
   "metadata": {},
   "outputs": [
    {
     "data": {
      "text/plain": [
       "ShapiroResult(statistic=0.9649458527565002, pvalue=0.3199819028377533)"
      ]
     },
     "execution_count": 3,
     "metadata": {},
     "output_type": "execute_result"
    }
   ],
   "source": [
    "from scipy import stats\n",
    "stats.shapiro(df1[\"Unit A\"])"
   ]
  },
  {
   "cell_type": "markdown",
   "metadata": {},
   "source": [
    "P value for Unit A == 0.32 > α"
   ]
  },
  {
   "cell_type": "code",
   "execution_count": 4,
   "metadata": {},
   "outputs": [
    {
     "data": {
      "text/plain": [
       "ShapiroResult(statistic=0.9727300405502319, pvalue=0.5224985480308533)"
      ]
     },
     "execution_count": 4,
     "metadata": {},
     "output_type": "execute_result"
    }
   ],
   "source": [
    "stats.shapiro(df1[\"Unit B\"])"
   ]
  },
  {
   "cell_type": "markdown",
   "metadata": {},
   "source": [
    "P value for Unit B == 0.52 > α"
   ]
  },
  {
   "cell_type": "markdown",
   "metadata": {},
   "source": [
    "# H0 is accepted that both diameters are same"
   ]
  },
  {
   "cell_type": "markdown",
   "metadata": {},
   "source": [
    "# 4 - External Condition\n",
    "External condition are same.\n",
    "Thus we can perform Paired T Test"
   ]
  },
  {
   "cell_type": "code",
   "execution_count": null,
   "metadata": {},
   "outputs": [],
   "source": []
  },
  {
   "cell_type": "markdown",
   "metadata": {},
   "source": [
    "# 5 - Model\n",
    "H0 == Mean for Y1 and Y2 are equal (There is no significance difference between diameter of the Culets)\n",
    "\n",
    "H1 == Mean for Y1 and Y2 are not equal (There is a significance difference between diameter of the Culets)"
   ]
  },
  {
   "cell_type": "code",
   "execution_count": 6,
   "metadata": {},
   "outputs": [
    {
     "data": {
      "text/plain": [
       "Ttest_relResult(statistic=0.7536787225614323, pvalue=0.45623007680384076)"
      ]
     },
     "execution_count": 6,
     "metadata": {},
     "output_type": "execute_result"
    }
   ],
   "source": [
    "stats.ttest_rel(df1[\"Unit A\"], df1[\"Unit B\"])"
   ]
  },
  {
   "cell_type": "markdown",
   "metadata": {},
   "source": [
    "P value of the Paired T Test is == 0.45 > α\n",
    "\n",
    "thus H0 is accepted i.e Y0 and Y1 are eqaual"
   ]
  }
 ],
 "metadata": {
  "kernelspec": {
   "display_name": "Python 3",
   "language": "python",
   "name": "python3"
  },
  "language_info": {
   "codemirror_mode": {
    "name": "ipython",
    "version": 3
   },
   "file_extension": ".py",
   "mimetype": "text/x-python",
   "name": "python",
   "nbconvert_exporter": "python",
   "pygments_lexer": "ipython3",
   "version": "3.8.5"
  }
 },
 "nbformat": 4,
 "nbformat_minor": 4
}
